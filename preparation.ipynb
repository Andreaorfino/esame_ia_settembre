{
 "cells": [
  {
   "cell_type": "code",
   "execution_count": 1,
   "metadata": {
    "scrolled": false
   },
   "outputs": [
    {
     "name": "stdout",
     "output_type": "stream",
     "text": [
      "Requirement already satisfied: pandas in c:\\users\\shars\\appdata\\local\\packages\\pythonsoftwarefoundation.python.3.8_qbz5n2kfra8p0\\localcache\\local-packages\\python38\\site-packages (from -r requirements.txt (line 1)) (1.0.5)\n",
      "Requirement already satisfied: sklearn in c:\\users\\shars\\appdata\\local\\packages\\pythonsoftwarefoundation.python.3.8_qbz5n2kfra8p0\\localcache\\local-packages\\python38\\site-packages (from -r requirements.txt (line 2)) (0.0)"
     ]
    },
    {
     "name": "stderr",
     "output_type": "stream",
     "text": [
      "WARNING: You are using pip version 20.1.1; however, version 20.2.3 is available.\n",
      "You should consider upgrading via the 'C:\\Users\\shars\\AppData\\Local\\Microsoft\\WindowsApps\\PythonSoftwareFoundation.Python.3.8_qbz5n2kfra8p0\\python.exe -m pip install --upgrade pip' command."
     ]
    },
    {
     "name": "stdout",
     "output_type": "stream",
     "text": [
      "\n",
      "Requirement already satisfied: pandas-profiling[notebook] in c:\\users\\shars\\appdata\\local\\packages\\pythonsoftwarefoundation.python.3.8_qbz5n2kfra8p0\\localcache\\local-packages\\python38\\site-packages (from -r requirements.txt (line 3)) (2.9.0)\n",
      "Requirement already satisfied: pytz>=2017.2 in c:\\users\\shars\\appdata\\local\\packages\\pythonsoftwarefoundation.python.3.8_qbz5n2kfra8p0\\localcache\\local-packages\\python38\\site-packages (from pandas->-r requirements.txt (line 1)) (2020.1)\n",
      "Requirement already satisfied: python-dateutil>=2.6.1 in c:\\users\\shars\\appdata\\local\\packages\\pythonsoftwarefoundation.python.3.8_qbz5n2kfra8p0\\localcache\\local-packages\\python38\\site-packages (from pandas->-r requirements.txt (line 1)) (2.8.1)\n",
      "Requirement already satisfied: numpy>=1.13.3 in c:\\users\\shars\\appdata\\local\\packages\\pythonsoftwarefoundation.python.3.8_qbz5n2kfra8p0\\localcache\\local-packages\\python38\\site-packages (from pandas->-r requirements.txt (line 1)) (1.19.0)\n",
      "Requirement already satisfied: scikit-learn in c:\\users\\shars\\appdata\\local\\packages\\pythonsoftwarefoundation.python.3.8_qbz5n2kfra8p0\\localcache\\local-packages\\python38\\site-packages (from sklearn->-r requirements.txt (line 2)) (0.23.2)\n",
      "Requirement already satisfied: scipy>=1.4.1 in c:\\users\\shars\\appdata\\local\\packages\\pythonsoftwarefoundation.python.3.8_qbz5n2kfra8p0\\localcache\\local-packages\\python38\\site-packages (from pandas-profiling[notebook]->-r requirements.txt (line 3)) (1.5.0)\n",
      "Requirement already satisfied: jinja2>=2.11.1 in c:\\users\\shars\\appdata\\local\\packages\\pythonsoftwarefoundation.python.3.8_qbz5n2kfra8p0\\localcache\\local-packages\\python38\\site-packages (from pandas-profiling[notebook]->-r requirements.txt (line 3)) (2.11.2)\n",
      "Requirement already satisfied: missingno>=0.4.2 in c:\\users\\shars\\appdata\\local\\packages\\pythonsoftwarefoundation.python.3.8_qbz5n2kfra8p0\\localcache\\local-packages\\python38\\site-packages (from pandas-profiling[notebook]->-r requirements.txt (line 3)) (0.4.2)\n",
      "Requirement already satisfied: requests>=2.23.0 in c:\\users\\shars\\appdata\\local\\packages\\pythonsoftwarefoundation.python.3.8_qbz5n2kfra8p0\\localcache\\local-packages\\python38\\site-packages (from pandas-profiling[notebook]->-r requirements.txt (line 3)) (2.23.0)\n",
      "Requirement already satisfied: seaborn>=0.10.1 in c:\\users\\shars\\appdata\\local\\packages\\pythonsoftwarefoundation.python.3.8_qbz5n2kfra8p0\\localcache\\local-packages\\python38\\site-packages (from pandas-profiling[notebook]->-r requirements.txt (line 3)) (0.10.1)\n",
      "Requirement already satisfied: matplotlib>=3.2.0 in c:\\users\\shars\\appdata\\local\\packages\\pythonsoftwarefoundation.python.3.8_qbz5n2kfra8p0\\localcache\\local-packages\\python38\\site-packages (from pandas-profiling[notebook]->-r requirements.txt (line 3)) (3.2.2)\n",
      "Requirement already satisfied: attrs>=19.3.0 in c:\\users\\shars\\appdata\\local\\packages\\pythonsoftwarefoundation.python.3.8_qbz5n2kfra8p0\\localcache\\local-packages\\python38\\site-packages (from pandas-profiling[notebook]->-r requirements.txt (line 3)) (20.2.0)\n",
      "Requirement already satisfied: htmlmin>=0.1.12 in c:\\users\\shars\\appdata\\local\\packages\\pythonsoftwarefoundation.python.3.8_qbz5n2kfra8p0\\localcache\\local-packages\\python38\\site-packages (from pandas-profiling[notebook]->-r requirements.txt (line 3)) (0.1.12)\n",
      "Requirement already satisfied: joblib in c:\\users\\shars\\appdata\\local\\packages\\pythonsoftwarefoundation.python.3.8_qbz5n2kfra8p0\\localcache\\local-packages\\python38\\site-packages (from pandas-profiling[notebook]->-r requirements.txt (line 3)) (0.16.0)\n",
      "Requirement already satisfied: visions[type_image_path]==0.5.0 in c:\\users\\shars\\appdata\\local\\packages\\pythonsoftwarefoundation.python.3.8_qbz5n2kfra8p0\\localcache\\local-packages\\python38\\site-packages (from pandas-profiling[notebook]->-r requirements.txt (line 3)) (0.5.0)\n",
      "Requirement already satisfied: phik>=0.9.10 in c:\\users\\shars\\appdata\\local\\packages\\pythonsoftwarefoundation.python.3.8_qbz5n2kfra8p0\\localcache\\local-packages\\python38\\site-packages (from pandas-profiling[notebook]->-r requirements.txt (line 3)) (0.10.0)\n",
      "Requirement already satisfied: tangled-up-in-unicode>=0.0.6 in c:\\users\\shars\\appdata\\local\\packages\\pythonsoftwarefoundation.python.3.8_qbz5n2kfra8p0\\localcache\\local-packages\\python38\\site-packages (from pandas-profiling[notebook]->-r requirements.txt (line 3)) (0.0.6)\n",
      "Requirement already satisfied: confuse>=1.0.0 in c:\\users\\shars\\appdata\\local\\packages\\pythonsoftwarefoundation.python.3.8_qbz5n2kfra8p0\\localcache\\local-packages\\python38\\site-packages (from pandas-profiling[notebook]->-r requirements.txt (line 3)) (1.3.0)\n",
      "Requirement already satisfied: tqdm>=4.43.0 in c:\\users\\shars\\appdata\\local\\packages\\pythonsoftwarefoundation.python.3.8_qbz5n2kfra8p0\\localcache\\local-packages\\python38\\site-packages (from pandas-profiling[notebook]->-r requirements.txt (line 3)) (4.49.0)\n",
      "Requirement already satisfied: ipywidgets>=7.5.1 in c:\\users\\shars\\appdata\\local\\packages\\pythonsoftwarefoundation.python.3.8_qbz5n2kfra8p0\\localcache\\local-packages\\python38\\site-packages (from pandas-profiling[notebook]->-r requirements.txt (line 3)) (7.5.1)\n",
      "Requirement already satisfied: jupyter-core>=4.6.3; extra == \"notebook\" in c:\\users\\shars\\appdata\\local\\packages\\pythonsoftwarefoundation.python.3.8_qbz5n2kfra8p0\\localcache\\local-packages\\python38\\site-packages (from pandas-profiling[notebook]->-r requirements.txt (line 3)) (4.6.3)\n",
      "Requirement already satisfied: jupyter-client>=6.0.0; extra == \"notebook\" in c:\\users\\shars\\appdata\\local\\packages\\pythonsoftwarefoundation.python.3.8_qbz5n2kfra8p0\\localcache\\local-packages\\python38\\site-packages (from pandas-profiling[notebook]->-r requirements.txt (line 3)) (6.1.7)\n",
      "Requirement already satisfied: six>=1.5 in c:\\users\\shars\\appdata\\local\\packages\\pythonsoftwarefoundation.python.3.8_qbz5n2kfra8p0\\localcache\\local-packages\\python38\\site-packages (from python-dateutil>=2.6.1->pandas->-r requirements.txt (line 1)) (1.15.0)\n",
      "Requirement already satisfied: threadpoolctl>=2.0.0 in c:\\users\\shars\\appdata\\local\\packages\\pythonsoftwarefoundation.python.3.8_qbz5n2kfra8p0\\localcache\\local-packages\\python38\\site-packages (from scikit-learn->sklearn->-r requirements.txt (line 2)) (2.1.0)\n",
      "Requirement already satisfied: MarkupSafe>=0.23 in c:\\users\\shars\\appdata\\local\\packages\\pythonsoftwarefoundation.python.3.8_qbz5n2kfra8p0\\localcache\\local-packages\\python38\\site-packages (from jinja2>=2.11.1->pandas-profiling[notebook]->-r requirements.txt (line 3)) (1.1.1)\n",
      "Requirement already satisfied: chardet<4,>=3.0.2 in c:\\users\\shars\\appdata\\local\\packages\\pythonsoftwarefoundation.python.3.8_qbz5n2kfra8p0\\localcache\\local-packages\\python38\\site-packages (from requests>=2.23.0->pandas-profiling[notebook]->-r requirements.txt (line 3)) (3.0.4)\n",
      "Requirement already satisfied: certifi>=2017.4.17 in c:\\users\\shars\\appdata\\local\\packages\\pythonsoftwarefoundation.python.3.8_qbz5n2kfra8p0\\localcache\\local-packages\\python38\\site-packages (from requests>=2.23.0->pandas-profiling[notebook]->-r requirements.txt (line 3)) (2020.4.5.2)\n",
      "Requirement already satisfied: idna<3,>=2.5 in c:\\users\\shars\\appdata\\local\\packages\\pythonsoftwarefoundation.python.3.8_qbz5n2kfra8p0\\localcache\\local-packages\\python38\\site-packages (from requests>=2.23.0->pandas-profiling[notebook]->-r requirements.txt (line 3)) (2.9)\n",
      "Requirement already satisfied: urllib3!=1.25.0,!=1.25.1,<1.26,>=1.21.1 in c:\\users\\shars\\appdata\\local\\packages\\pythonsoftwarefoundation.python.3.8_qbz5n2kfra8p0\\localcache\\local-packages\\python38\\site-packages (from requests>=2.23.0->pandas-profiling[notebook]->-r requirements.txt (line 3)) (1.25.9)\n",
      "Requirement already satisfied: kiwisolver>=1.0.1 in c:\\users\\shars\\appdata\\local\\packages\\pythonsoftwarefoundation.python.3.8_qbz5n2kfra8p0\\localcache\\local-packages\\python38\\site-packages (from matplotlib>=3.2.0->pandas-profiling[notebook]->-r requirements.txt (line 3)) (1.2.0)\n",
      "Requirement already satisfied: cycler>=0.10 in c:\\users\\shars\\appdata\\local\\packages\\pythonsoftwarefoundation.python.3.8_qbz5n2kfra8p0\\localcache\\local-packages\\python38\\site-packages (from matplotlib>=3.2.0->pandas-profiling[notebook]->-r requirements.txt (line 3)) (0.10.0)\n",
      "Requirement already satisfied: pyparsing!=2.0.4,!=2.1.2,!=2.1.6,>=2.0.1 in c:\\users\\shars\\appdata\\local\\packages\\pythonsoftwarefoundation.python.3.8_qbz5n2kfra8p0\\localcache\\local-packages\\python38\\site-packages (from matplotlib>=3.2.0->pandas-profiling[notebook]->-r requirements.txt (line 3)) (2.4.7)\n",
      "Requirement already satisfied: networkx>=2.4 in c:\\users\\shars\\appdata\\local\\packages\\pythonsoftwarefoundation.python.3.8_qbz5n2kfra8p0\\localcache\\local-packages\\python38\\site-packages (from visions[type_image_path]==0.5.0->pandas-profiling[notebook]->-r requirements.txt (line 3)) (2.5)\n",
      "Requirement already satisfied: imagehash; extra == \"type_image_path\" in c:\\users\\shars\\appdata\\local\\packages\\pythonsoftwarefoundation.python.3.8_qbz5n2kfra8p0\\localcache\\local-packages\\python38\\site-packages (from visions[type_image_path]==0.5.0->pandas-profiling[notebook]->-r requirements.txt (line 3)) (4.1.0)\n",
      "Requirement already satisfied: Pillow; extra == \"type_image_path\" in c:\\users\\shars\\appdata\\local\\packages\\pythonsoftwarefoundation.python.3.8_qbz5n2kfra8p0\\localcache\\local-packages\\python38\\site-packages (from visions[type_image_path]==0.5.0->pandas-profiling[notebook]->-r requirements.txt (line 3)) (7.2.0)\n",
      "Requirement already satisfied: numba>=0.38.1 in c:\\users\\shars\\appdata\\local\\packages\\pythonsoftwarefoundation.python.3.8_qbz5n2kfra8p0\\localcache\\local-packages\\python38\\site-packages (from phik>=0.9.10->pandas-profiling[notebook]->-r requirements.txt (line 3)) (0.51.2)\n",
      "Requirement already satisfied: pyyaml in c:\\users\\shars\\appdata\\local\\packages\\pythonsoftwarefoundation.python.3.8_qbz5n2kfra8p0\\localcache\\local-packages\\python38\\site-packages (from confuse>=1.0.0->pandas-profiling[notebook]->-r requirements.txt (line 3)) (5.3.1)\n",
      "Requirement already satisfied: ipython>=4.0.0; python_version >= \"3.3\" in c:\\users\\shars\\appdata\\local\\packages\\pythonsoftwarefoundation.python.3.8_qbz5n2kfra8p0\\localcache\\local-packages\\python38\\site-packages (from ipywidgets>=7.5.1->pandas-profiling[notebook]->-r requirements.txt (line 3)) (7.18.1)\n",
      "Requirement already satisfied: nbformat>=4.2.0 in c:\\users\\shars\\appdata\\local\\packages\\pythonsoftwarefoundation.python.3.8_qbz5n2kfra8p0\\localcache\\local-packages\\python38\\site-packages (from ipywidgets>=7.5.1->pandas-profiling[notebook]->-r requirements.txt (line 3)) (5.0.7)\n",
      "Requirement already satisfied: ipykernel>=4.5.1 in c:\\users\\shars\\appdata\\local\\packages\\pythonsoftwarefoundation.python.3.8_qbz5n2kfra8p0\\localcache\\local-packages\\python38\\site-packages (from ipywidgets>=7.5.1->pandas-profiling[notebook]->-r requirements.txt (line 3)) (5.3.4)\n"
     ]
    },
    {
     "name": "stderr",
     "output_type": "stream",
     "text": [
      "\n"
     ]
    }
   ],
   "source": [
    "!pip install -r requirements.txt"
   ]
  },
  {
   "cell_type": "markdown",
   "metadata": {},
   "source": [
    "<h2>Importo le librerie necessarie</h2>"
   ]
  },
  {
   "cell_type": "code",
   "execution_count": 2,
   "metadata": {},
   "outputs": [
    {
     "name": "stdout",
     "output_type": "stream",
     "text": [
      "Requirement already satisfied: widgetsnbextension~=3.5.0 in c:\\users\\shars\\appdata\\local\\packages\\pythonsoftwarefoundation.python.3.8_qbz5n2kfra8p0\\localcache\\local-packages\\python38\\site-packages (from ipywidgets>=7.5.1->pandas-profiling[notebook]->-r requirements.txt (line 3)) (3.5.1)\n",
      "Requirement already satisfied: traitlets>=4.3.1 in c:\\users\\shars\\appdata\\local\\packages\\pythonsoftwarefoundation.python.3.8_qbz5n2kfra8p0\\localcache\\local-packages\\python38\\site-packages (from ipywidgets>=7.5.1->pandas-profiling[notebook]->-r requirements.txt (line 3)) (5.0.4)\n",
      "Requirement already satisfied: pywin32>=1.0; sys_platform == \"win32\" in c:\\users\\shars\\appdata\\local\\packages\\pythonsoftwarefoundation.python.3.8_qbz5n2kfra8p0\\localcache\\local-packages\\python38\\site-packages (from jupyter-core>=4.6.3; extra == \"notebook\"->pandas-profiling[notebook]->-r requirements.txt (line 3)) (228)\n",
      "Requirement already satisfied: pyzmq>=13 in c:\\users\\shars\\appdata\\local\\packages\\pythonsoftwarefoundation.python.3.8_qbz5n2kfra8p0\\localcache\\local-packages\\python38\\site-packages (from jupyter-client>=6.0.0; extra == \"notebook\"->pandas-profiling[notebook]->-r requirements.txt (line 3)) (19.0.2)\n",
      "Requirement already satisfied: tornado>=4.1 in c:\\users\\shars\\appdata\\local\\packages\\pythonsoftwarefoundation.python.3.8_qbz5n2kfra8p0\\localcache\\local-packages\\python38\\site-packages (from jupyter-client>=6.0.0; extra == \"notebook\"->pandas-profiling[notebook]->-r requirements.txt (line 3)) (6.0.4)\n",
      "Requirement already satisfied: decorator>=4.3.0 in c:\\users\\shars\\appdata\\local\\packages\\pythonsoftwarefoundation.python.3.8_qbz5n2kfra8p0\\localcache\\local-packages\\python38\\site-packages (from networkx>=2.4->visions[type_image_path]==0.5.0->pandas-profiling[notebook]->-r requirements.txt (line 3)) (4.4.2)\n",
      "Requirement already satisfied: PyWavelets in c:\\users\\shars\\appdata\\local\\packages\\pythonsoftwarefoundation.python.3.8_qbz5n2kfra8p0\\localcache\\local-packages\\python38\\site-packages (from imagehash; extra == \"type_image_path\"->visions[type_image_path]==0.5.0->pandas-profiling[notebook]->-r requirements.txt (line 3)) (1.1.1)\n",
      "Requirement already satisfied: setuptools in c:\\program files\\windowsapps\\pythonsoftwarefoundation.python.3.8_3.8.1520.0_x64__qbz5n2kfra8p0\\lib\\site-packages (from numba>=0.38.1->phik>=0.9.10->pandas-profiling[notebook]->-r requirements.txt (line 3)) (47.1.0)\n",
      "Requirement already satisfied: llvmlite<0.35,>=0.34.0.dev0 in c:\\users\\shars\\appdata\\local\\packages\\pythonsoftwarefoundation.python.3.8_qbz5n2kfra8p0\\localcache\\local-packages\\python38\\site-packages (from numba>=0.38.1->phik>=0.9.10->pandas-profiling[notebook]->-r requirements.txt (line 3)) (0.34.0)\n",
      "Requirement already satisfied: backcall in c:\\users\\shars\\appdata\\local\\packages\\pythonsoftwarefoundation.python.3.8_qbz5n2kfra8p0\\localcache\\local-packages\\python38\\site-packages (from ipython>=4.0.0; python_version >= \"3.3\"->ipywidgets>=7.5.1->pandas-profiling[notebook]->-r requirements.txt (line 3)) (0.2.0)\n",
      "Requirement already satisfied: jedi>=0.10 in c:\\users\\shars\\appdata\\local\\packages\\pythonsoftwarefoundation.python.3.8_qbz5n2kfra8p0\\localcache\\local-packages\\python38\\site-packages (from ipython>=4.0.0; python_version >= \"3.3\"->ipywidgets>=7.5.1->pandas-profiling[notebook]->-r requirements.txt (line 3)) (0.17.2)\n",
      "Requirement already satisfied: pickleshare in c:\\users\\shars\\appdata\\local\\packages\\pythonsoftwarefoundation.python.3.8_qbz5n2kfra8p0\\localcache\\local-packages\\python38\\site-packages (from ipython>=4.0.0; python_version >= \"3.3\"->ipywidgets>=7.5.1->pandas-profiling[notebook]->-r requirements.txt (line 3)) (0.7.5)\n",
      "Requirement already satisfied: prompt-toolkit!=3.0.0,!=3.0.1,<3.1.0,>=2.0.0 in c:\\users\\shars\\appdata\\local\\packages\\pythonsoftwarefoundation.python.3.8_qbz5n2kfra8p0\\localcache\\local-packages\\python38\\site-packages (from ipython>=4.0.0; python_version >= \"3.3\"->ipywidgets>=7.5.1->pandas-profiling[notebook]->-r requirements.txt (line 3)) (3.0.7)\n",
      "Requirement already satisfied: colorama; sys_platform == \"win32\" in c:\\users\\shars\\appdata\\local\\packages\\pythonsoftwarefoundation.python.3.8_qbz5n2kfra8p0\\localcache\\local-packages\\python38\\site-packages (from ipython>=4.0.0; python_version >= \"3.3\"->ipywidgets>=7.5.1->pandas-profiling[notebook]->-r requirements.txt (line 3)) (0.4.3)\n",
      "Requirement already satisfied: pygments in c:\\users\\shars\\appdata\\local\\packages\\pythonsoftwarefoundation.python.3.8_qbz5n2kfra8p0\\localcache\\local-packages\\python38\\site-packages (from ipython>=4.0.0; python_version >= \"3.3\"->ipywidgets>=7.5.1->pandas-profiling[notebook]->-r requirements.txt (line 3)) (2.7.0)\n",
      "Requirement already satisfied: ipython-genutils in c:\\users\\shars\\appdata\\local\\packages\\pythonsoftwarefoundation.python.3.8_qbz5n2kfra8p0\\localcache\\local-packages\\python38\\site-packages (from nbformat>=4.2.0->ipywidgets>=7.5.1->pandas-profiling[notebook]->-r requirements.txt (line 3)) (0.2.0)\n",
      "Requirement already satisfied: jsonschema!=2.5.0,>=2.4 in c:\\users\\shars\\appdata\\local\\packages\\pythonsoftwarefoundation.python.3.8_qbz5n2kfra8p0\\localcache\\local-packages\\python38\\site-packages (from nbformat>=4.2.0->ipywidgets>=7.5.1->pandas-profiling[notebook]->-r requirements.txt (line 3)) (3.2.0)\n",
      "Requirement already satisfied: notebook>=4.4.1 in c:\\users\\shars\\appdata\\local\\packages\\pythonsoftwarefoundation.python.3.8_qbz5n2kfra8p0\\localcache\\local-packages\\python38\\site-packages (from widgetsnbextension~=3.5.0->ipywidgets>=7.5.1->pandas-profiling[notebook]->-r requirements.txt (line 3)) (6.1.4)\n",
      "Requirement already satisfied: parso<0.8.0,>=0.7.0 in c:\\users\\shars\\appdata\\local\\packages\\pythonsoftwarefoundation.python.3.8_qbz5n2kfra8p0\\localcache\\local-packages\\python38\\site-packages (from jedi>=0.10->ipython>=4.0.0; python_version >= \"3.3\"->ipywidgets>=7.5.1->pandas-profiling[notebook]->-r requirements.txt (line 3)) (0.7.1)\n",
      "Requirement already satisfied: wcwidth in c:\\users\\shars\\appdata\\local\\packages\\pythonsoftwarefoundation.python.3.8_qbz5n2kfra8p0\\localcache\\local-packages\\python38\\site-packages (from prompt-toolkit!=3.0.0,!=3.0.1,<3.1.0,>=2.0.0->ipython>=4.0.0; python_version >= \"3.3\"->ipywidgets>=7.5.1->pandas-profiling[notebook]->-r requirements.txt (line 3)) (0.2.5)\n",
      "Requirement already satisfied: pyrsistent>=0.14.0 in c:\\users\\shars\\appdata\\local\\packages\\pythonsoftwarefoundation.python.3.8_qbz5n2kfra8p0\\localcache\\local-packages\\python38\\site-packages (from jsonschema!=2.5.0,>=2.4->nbformat>=4.2.0->ipywidgets>=7.5.1->pandas-profiling[notebook]->-r requirements.txt (line 3)) (0.17.3)\n",
      "Requirement already satisfied: argon2-cffi in c:\\users\\shars\\appdata\\local\\packages\\pythonsoftwarefoundation.python.3.8_qbz5n2kfra8p0\\localcache\\local-packages\\python38\\site-packages (from notebook>=4.4.1->widgetsnbextension~=3.5.0->ipywidgets>=7.5.1->pandas-profiling[notebook]->-r requirements.txt (line 3)) (20.1.0)\n",
      "Requirement already satisfied: terminado>=0.8.3 in c:\\users\\shars\\appdata\\local\\packages\\pythonsoftwarefoundation.python.3.8_qbz5n2kfra8p0\\localcache\\local-packages\\python38\\site-packages (from notebook>=4.4.1->widgetsnbextension~=3.5.0->ipywidgets>=7.5.1->pandas-profiling[notebook]->-r requirements.txt (line 3)) (0.8.3)\n",
      "Requirement already satisfied: nbconvert in c:\\users\\shars\\appdata\\local\\packages\\pythonsoftwarefoundation.python.3.8_qbz5n2kfra8p0\\localcache\\local-packages\\python38\\site-packages (from notebook>=4.4.1->widgetsnbextension~=3.5.0->ipywidgets>=7.5.1->pandas-profiling[notebook]->-r requirements.txt (line 3)) (6.0.2)\n",
      "Requirement already satisfied: Send2Trash in c:\\users\\shars\\appdata\\local\\packages\\pythonsoftwarefoundation.python.3.8_qbz5n2kfra8p0\\localcache\\local-packages\\python38\\site-packages (from notebook>=4.4.1->widgetsnbextension~=3.5.0->ipywidgets>=7.5.1->pandas-profiling[notebook]->-r requirements.txt (line 3)) (1.5.0)\n",
      "Requirement already satisfied: prometheus-client in c:\\users\\shars\\appdata\\local\\packages\\pythonsoftwarefoundation.python.3.8_qbz5n2kfra8p0\\localcache\\local-packages\\python38\\site-packages (from notebook>=4.4.1->widgetsnbextension~=3.5.0->ipywidgets>=7.5.1->pandas-profiling[notebook]->-r requirements.txt (line 3)) (0.8.0)\n",
      "Requirement already satisfied: cffi>=1.0.0 in c:\\users\\shars\\appdata\\local\\packages\\pythonsoftwarefoundation.python.3.8_qbz5n2kfra8p0\\localcache\\local-packages\\python38\\site-packages (from argon2-cffi->notebook>=4.4.1->widgetsnbextension~=3.5.0->ipywidgets>=7.5.1->pandas-profiling[notebook]->-r requirements.txt (line 3)) (1.14.0)\n",
      "Requirement already satisfied: pywinpty>=0.5; os_name == \"nt\" in c:\\users\\shars\\appdata\\local\\packages\\pythonsoftwarefoundation.python.3.8_qbz5n2kfra8p0\\localcache\\local-packages\\python38\\site-packages (from terminado>=0.8.3->notebook>=4.4.1->widgetsnbextension~=3.5.0->ipywidgets>=7.5.1->pandas-profiling[notebook]->-r requirements.txt (line 3)) (0.5.7)\n",
      "Requirement already satisfied: nbclient<0.6.0,>=0.5.0 in c:\\users\\shars\\appdata\\local\\packages\\pythonsoftwarefoundation.python.3.8_qbz5n2kfra8p0\\localcache\\local-packages\\python38\\site-packages (from nbconvert->notebook>=4.4.1->widgetsnbextension~=3.5.0->ipywidgets>=7.5.1->pandas-profiling[notebook]->-r requirements.txt (line 3)) (0.5.0)\n",
      "Requirement already satisfied: defusedxml in c:\\users\\shars\\appdata\\local\\packages\\pythonsoftwarefoundation.python.3.8_qbz5n2kfra8p0\\localcache\\local-packages\\python38\\site-packages (from nbconvert->notebook>=4.4.1->widgetsnbextension~=3.5.0->ipywidgets>=7.5.1->pandas-profiling[notebook]->-r requirements.txt (line 3)) (0.6.0)\n",
      "Requirement already satisfied: mistune<2,>=0.8.1 in c:\\users\\shars\\appdata\\local\\packages\\pythonsoftwarefoundation.python.3.8_qbz5n2kfra8p0\\localcache\\local-packages\\python38\\site-packages (from nbconvert->notebook>=4.4.1->widgetsnbextension~=3.5.0->ipywidgets>=7.5.1->pandas-profiling[notebook]->-r requirements.txt (line 3)) (0.8.4)\n",
      "Requirement already satisfied: jupyterlab-pygments in c:\\users\\shars\\appdata\\local\\packages\\pythonsoftwarefoundation.python.3.8_qbz5n2kfra8p0\\localcache\\local-packages\\python38\\site-packages (from nbconvert->notebook>=4.4.1->widgetsnbextension~=3.5.0->ipywidgets>=7.5.1->pandas-profiling[notebook]->-r requirements.txt (line 3)) (0.1.1)\n",
      "Requirement already satisfied: entrypoints>=0.2.2 in c:\\users\\shars\\appdata\\local\\packages\\pythonsoftwarefoundation.python.3.8_qbz5n2kfra8p0\\localcache\\local-packages\\python38\\site-packages (from nbconvert->notebook>=4.4.1->widgetsnbextension~=3.5.0->ipywidgets>=7.5.1->pandas-profiling[notebook]->-r requirements.txt (line 3)) (0.3)\n",
      "Requirement already satisfied: bleach in c:\\users\\shars\\appdata\\local\\packages\\pythonsoftwarefoundation.python.3.8_qbz5n2kfra8p0\\localcache\\local-packages\\python38\\site-packages (from nbconvert->notebook>=4.4.1->widgetsnbextension~=3.5.0->ipywidgets>=7.5.1->pandas-profiling[notebook]->-r requirements.txt (line 3)) (3.2.0)\n",
      "Requirement already satisfied: pandocfilters>=1.4.1 in c:\\users\\shars\\appdata\\local\\packages\\pythonsoftwarefoundation.python.3.8_qbz5n2kfra8p0\\localcache\\local-packages\\python38\\site-packages (from nbconvert->notebook>=4.4.1->widgetsnbextension~=3.5.0->ipywidgets>=7.5.1->pandas-profiling[notebook]->-r requirements.txt (line 3)) (1.4.2)\n",
      "Requirement already satisfied: testpath in c:\\users\\shars\\appdata\\local\\packages\\pythonsoftwarefoundation.python.3.8_qbz5n2kfra8p0\\localcache\\local-packages\\python38\\site-packages (from nbconvert->notebook>=4.4.1->widgetsnbextension~=3.5.0->ipywidgets>=7.5.1->pandas-profiling[notebook]->-r requirements.txt (line 3)) (0.4.4)\n",
      "Requirement already satisfied: pycparser in c:\\users\\shars\\appdata\\local\\packages\\pythonsoftwarefoundation.python.3.8_qbz5n2kfra8p0\\localcache\\local-packages\\python38\\site-packages (from cffi>=1.0.0->argon2-cffi->notebook>=4.4.1->widgetsnbextension~=3.5.0->ipywidgets>=7.5.1->pandas-profiling[notebook]->-r requirements.txt (line 3)) (2.20)\n",
      "Requirement already satisfied: async-generator in c:\\users\\shars\\appdata\\local\\packages\\pythonsoftwarefoundation.python.3.8_qbz5n2kfra8p0\\localcache\\local-packages\\python38\\site-packages (from nbclient<0.6.0,>=0.5.0->nbconvert->notebook>=4.4.1->widgetsnbextension~=3.5.0->ipywidgets>=7.5.1->pandas-profiling[notebook]->-r requirements.txt (line 3)) (1.10)\n",
      "Requirement already satisfied: nest-asyncio in c:\\users\\shars\\appdata\\local\\packages\\pythonsoftwarefoundation.python.3.8_qbz5n2kfra8p0\\localcache\\local-packages\\python38\\site-packages (from nbclient<0.6.0,>=0.5.0->nbconvert->notebook>=4.4.1->widgetsnbextension~=3.5.0->ipywidgets>=7.5.1->pandas-profiling[notebook]->-r requirements.txt (line 3)) (1.4.0)\n",
      "Requirement already satisfied: webencodings in c:\\users\\shars\\appdata\\local\\packages\\pythonsoftwarefoundation.python.3.8_qbz5n2kfra8p0\\localcache\\local-packages\\python38\\site-packages (from bleach->nbconvert->notebook>=4.4.1->widgetsnbextension~=3.5.0->ipywidgets>=7.5.1->pandas-profiling[notebook]->-r requirements.txt (line 3)) (0.5.1)\n",
      "Requirement already satisfied: packaging in c:\\users\\shars\\appdata\\local\\packages\\pythonsoftwarefoundation.python.3.8_qbz5n2kfra8p0\\localcache\\local-packages\\python38\\site-packages (from bleach->nbconvert->notebook>=4.4.1->widgetsnbextension~=3.5.0->ipywidgets>=7.5.1->pandas-profiling[notebook]->-r requirements.txt (line 3)) (20.4)\n"
     ]
    }
   ],
   "source": [
    "import pandas as pd\n",
    "from sklearn.model_selection import train_test_split\n",
    "from pandas_profiling import ProfileReport"
   ]
  },
  {
   "cell_type": "markdown",
   "metadata": {},
   "source": [
    "<h2>Carico il file csv</h2>\n",
    "<p>Carico il csv dentro ad un pandas dataframe</p>"
   ]
  },
  {
   "cell_type": "code",
   "execution_count": 3,
   "metadata": {},
   "outputs": [],
   "source": [
    "path_csv = \"heart_failure_clinical_records_dataset.train.csv\"\n",
    "dataframe = pd.read_csv(path_csv)"
   ]
  },
  {
   "cell_type": "markdown",
   "metadata": {},
   "source": [
    "<h2>Split dataset</h2>\n",
    "<p>Creo il test set e il train set</p>"
   ]
  },
  {
   "cell_type": "code",
   "execution_count": 4,
   "metadata": {},
   "outputs": [],
   "source": [
    "train, test = train_test_split(dataframe, test_size=0.33)"
   ]
  },
  {
   "cell_type": "markdown",
   "metadata": {},
   "source": [
    "<h2>Salvo il train set e il test set su file</h2>"
   ]
  },
  {
   "cell_type": "code",
   "execution_count": 5,
   "metadata": {},
   "outputs": [],
   "source": [
    "train.to_csv(\"train\" + \".csv\", index=False)\n",
    "test.to_csv(\"test\" + \".csv\", index=False)"
   ]
  }
 ],
 "metadata": {
  "kernelspec": {
   "display_name": "Python 3",
   "language": "python",
   "name": "python3"
  },
  "language_info": {
   "codemirror_mode": {
    "name": "ipython",
    "version": 3
   },
   "file_extension": ".py",
   "mimetype": "text/x-python",
   "name": "python",
   "nbconvert_exporter": "python",
   "pygments_lexer": "ipython3",
   "version": "3.8.5"
  }
 },
 "nbformat": 4,
 "nbformat_minor": 4
}
